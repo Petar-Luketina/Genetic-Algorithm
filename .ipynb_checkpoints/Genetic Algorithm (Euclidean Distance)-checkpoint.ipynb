{
 "cells": [
  {
   "cell_type": "code",
   "execution_count": 1,
   "metadata": {},
   "outputs": [],
   "source": [
    "def generate_starting_points():\n",
    "  points = []\n",
    "  for i in range(n_points):\n",
    "    x, y = round(random()*100), round(random()*100)\n",
    "    points.append([x, y])\n",
    "  fig, ax = plt.subplots()\n",
    "  ax = plt.scatter([x for x, y in points], [y for x,y in points])\n",
    "  plt.show()\n",
    "  return points\n",
    "\n",
    "\n",
    "def graph_top_fitness(points):\n",
    "  fig, ax = plt.subplots()\n",
    "  ax = plt.plot([x for x,y in points[0]], [y for x,y in points[0]])\n",
    "  plt.title(f'Distance: {round(points[1], 2)}')\n",
    "  plt.show()\n",
    "\n",
    "\n",
    "def generate_organisms(points):\n",
    "  organisms = []\n",
    "  for _ in range(population):\n",
    "    new_points = points.copy(); shuffle(new_points)\n",
    "    organisms.append(new_points)\n",
    "  return organisms\n",
    "\n",
    "\n",
    "def calculate_fitness(organisms):\n",
    "  fitness_score = []\n",
    "  for organism in organisms:\n",
    "    distance = 0\n",
    "    last_point = None\n",
    "    for x2, y2 in organism:\n",
    "      if last_point:\n",
    "        x1, y1 = last_point[0], last_point[1]\n",
    "        distance += ((x1-x2)**2 + (y1-y2)**2)**0.5\n",
    "      last_point = (x2, y2)\n",
    "    fitness_score.append([organism, distance])\n",
    "  return sorted(fitness_score, key=lambda x: x[1])\n",
    "\n",
    "\n",
    "def get_child(p1,p2):\n",
    "  for p in p1:\n",
    "    p2.remove(p)\n",
    "  return p1 + p2\n",
    "\n",
    "\n",
    "def next_generation(fitness):\n",
    "  organisms = []\n",
    "  for i in range(len(fitness)//2)[::2]:\n",
    "    p1, p2 = fitness[i][0], fitness[i+1][0]\n",
    "    children = [\n",
    "      get_child(p1[:n_points//2], p2[:]),\n",
    "      get_child(p1[n_points//2:], p2[:]),\n",
    "      get_child(p2[:n_points//2], p1[:]),\n",
    "      get_child(p2[n_points//2:], p1[:]),\n",
    "    ]\n",
    "    for child in children:\n",
    "      random_chance = random()\n",
    "      if random_chance <= mutation:\n",
    "        r1 = choice(range(n_points-1))\n",
    "        r2 = choice(range(n_points-1))\n",
    "        child[r1], child[r2] = child[r2], child[r1]\n",
    "      organisms.append(child)\n",
    "  return organisms\n",
    "\n",
    "\n",
    "def plot_progression():\n",
    "  fig, ax = plt.subplots(figsize=(18,7))\n",
    "  ax = plt.plot(top_distances)\n",
    "  plt.title(f'Best: {round(min(top_distances),2)}, Last: {round(top_distances[-1],2)}')\n",
    "  plt.show()"
   ]
  },
  {
   "cell_type": "code",
   "execution_count": 2,
   "metadata": {},
   "outputs": [
    {
     "data": {
      "application/vnd.jupyter.widget-view+json": {
       "model_id": "eda91ba47e7a4296b9d26b24a98003a3",
       "version_major": 2,
       "version_minor": 0
      },
      "text/plain": [
       "FloatSlider(value=0.05, description='Mutation:', max=1.0, step=0.01)"
      ]
     },
     "metadata": {},
     "output_type": "display_data"
    },
    {
     "data": {
      "application/vnd.jupyter.widget-view+json": {
       "model_id": "297f417facda439a89a3c9d3da9d454a",
       "version_major": 2,
       "version_minor": 0
      },
      "text/plain": [
       "IntSlider(value=50, description='Population:', max=200, step=10)"
      ]
     },
     "metadata": {},
     "output_type": "display_data"
    },
    {
     "data": {
      "application/vnd.jupyter.widget-view+json": {
       "model_id": "9855d7808fc1408994cf5d24bd6de3ea",
       "version_major": 2,
       "version_minor": 0
      },
      "text/plain": [
       "IntSlider(value=14, description='Graph Points:', max=50, step=2)"
      ]
     },
     "metadata": {},
     "output_type": "display_data"
    },
    {
     "data": {
      "application/vnd.jupyter.widget-view+json": {
       "model_id": "bc9c8df75d874056876cba14c66ac152",
       "version_major": 2,
       "version_minor": 0
      },
      "text/plain": [
       "IntSlider(value=10, description='N-th Display:', max=1000, min=1)"
      ]
     },
     "metadata": {},
     "output_type": "display_data"
    }
   ],
   "source": [
    "from IPython.display import display\n",
    "import ipywidgets as widgets\n",
    "from random import choice, random, shuffle, seed\n",
    "import matplotlib.pyplot as plt\n",
    "import numpy as np\n",
    "\n",
    "seed(1)\n",
    "\n",
    "mutation_widget = widgets.FloatSlider(\n",
    "  min = 0,\n",
    "  max = 1,\n",
    "  step = 0.01,\n",
    "  value = 0.05,\n",
    "  description='Mutation:'\n",
    ")\n",
    "population_widget = widgets.IntSlider(\n",
    "  min = 0,\n",
    "  max = 200,\n",
    "  step = 10,\n",
    "  value=50,\n",
    "  description='Population:'\n",
    ")\n",
    "n_points_widget = widgets.IntSlider(\n",
    "  min = 0,\n",
    "  max = 50,\n",
    "  step = 2,\n",
    "  value= 14,\n",
    "  description='Graph Points:'\n",
    ")\n",
    "epochs_widget = widgets.IntSlider(\n",
    "  min = 1,\n",
    "  max = 1000,\n",
    "  step = 1,\n",
    "  value= 100,\n",
    "  description='Epochs:'\n",
    ")\n",
    "nth_display_widget = widgets.IntSlider(\n",
    "  min = 1,\n",
    "  max = 1000,\n",
    "  step = 1,\n",
    "  value= 10,\n",
    "  description='N-th Display:'\n",
    ")\n",
    "display(mutation_widget, population_widget, n_points_widget, epochs_widget)"
   ]
  },
  {
   "cell_type": "code",
   "execution_count": 421,
   "metadata": {},
   "outputs": [
    {
     "data": {
      "image/png": "[encoded data removed]",
      "text/plain": [
       "<Figure size 432x288 with 1 Axes>"
      ]
     },
     "metadata": {
      "needs_background": "light"
     },
     "output_type": "display_data"
    },
    {
     "data": {
      "image/png": "[encoded data removed]",
      "text/plain": [
       "<Figure size 1296x504 with 1 Axes>"
      ]
     },
     "metadata": {
      "needs_background": "light"
     },
     "output_type": "display_data"
    }
   ],
   "source": [
    "mutation = mutation_widget.value\n",
    "population = population_widget.value \n",
    "n_points = n_points_widget.value \n",
    "epochs = epochs_widget.value \n",
    "nth_display = nth_display_widget.value\n",
    "\n",
    "top_distances = []\n",
    "top_points = []\n",
    "points = generate_starting_points()\n",
    "organisms = generate_organisms(points)\n",
    "for i in range(epochs):\n",
    "  fitness = calculate_fitness(organisms)\n",
    "  top_points.append(fitness[0])\n",
    "  top_distances.append(fitness[0][1])\n",
    "  organisms = next_generation(fitness)\n",
    "  if \n",
    "plot_progression()"
   ]
  },
  {
   "cell_type": "code",
   "execution_count": null,
   "metadata": {},
   "outputs": [],
   "source": []
  }
 ],
 "metadata": {
  "kernelspec": {
   "display_name": "Python 3",
   "language": "python",
   "name": "python3"
  },
  "language_info": {
   "codemirror_mode": {
    "name": "ipython",
    "version": 3
   },
   "file_extension": ".py",
   "mimetype": "text/x-python",
   "name": "python",
   "nbconvert_exporter": "python",
   "pygments_lexer": "ipython3",
   "version": "3.7.3"
  }
 },
 "nbformat": 4,
 "nbformat_minor": 2
}
